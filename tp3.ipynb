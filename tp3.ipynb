{
 "cells": [
  {
   "cell_type": "markdown",
   "id": "498731c6",
   "metadata": {},
   "source": [
    "# Trabajo Practico n3 - Trabajando con Lists y Sets.\n",
    "## Criterios de evaluación.\n",
    "\n",
    "* Se deben utilizar nombres de variables descriptivos y claros (Utilizar la nomeclatura correspondiente para los nombres de variables).\n",
    "* Comentarios claros y concisos que expliquen el propósito de cada sección del código.\n",
    "* Utilizar mensajes de commit **descriptivos**. (Puedes utilizar la extension CONVENTIONAL COMMIT de VS-CODE). \n",
    "* Entrega en tiempo y forma.\n",
    "* Todo el código desarrollado debe ser subido a un repositorio en GitHub (el nombre del repositorio de seguir la siguiente estructura: tp3_tlp3_nombre_apellido).\n",
    "* Para resolver las actividades se debe insertar casillas de codigo entre cada actividad del cuaderno de Jupyter\n",
    "* El repositorio de GitHub debe incluir un archivo README.md con las instrucciones necesarias para la correcta ejecución del código.\n",
    "\n",
    "### ¡Importante!\n",
    "**El incumplimiento de los criterios de evaluación restará puntos en la nota final del práctico!**"
   ]
  },
  {
   "cell_type": "markdown",
   "id": "b361a7b6",
   "metadata": {},
   "source": [
    "### Actividad 1: \n",
    "Suma de todos los elementos de una lista, utilizando bucles repetitivos (for, while)."
   ]
  },
  {
   "cell_type": "code",
   "execution_count": null,
   "id": "26009294",
   "metadata": {},
   "outputs": [
    {
     "name": "stdout",
     "output_type": "stream",
     "text": [
      "204\n"
     ]
    }
   ],
   "source": [
    "\n",
    "# todo:\n",
    "\n",
    "numbers = [14, 23, 34, 48, 85] #Lista de números\n",
    "result = 0 #Inicializa el resultado a 0\n",
    "\n",
    "for i in range(len(numbers)): #Itera sobre la lista de números\n",
    "    result += numbers[i] #Suma cada número a result\n",
    "print(result)\n"
   ]
  },
  {
   "cell_type": "markdown",
   "id": "0c239195",
   "metadata": {},
   "source": [
    "### Actividad 2: \n",
    "Encontrar el número más grande en una lista, utilizando bucles repetitivos (for, while)."
   ]
  },
  {
   "cell_type": "code",
   "execution_count": null,
   "id": "3611d25a",
   "metadata": {},
   "outputs": [
    {
     "name": "stdout",
     "output_type": "stream",
     "text": [
      "[81, 69, 45, 99, 77]\n",
      "El número más grande es: 99\n"
     ]
    }
   ],
   "source": [
    "\n",
    "# todo:\n",
    "\n",
    "from random import randint\n",
    "random_numbers =[randint(1, 100) for i in range(5)] #Genera una lista de 5 números aleatorios entre 1 y 100\n",
    "print(random_numbers)\n",
    "\n",
    "maximo = 0 #Inicializa maximo a 0\n",
    "for num in random_numbers: #Itera sobre la lista de números aleatorios\n",
    "    if num > maximo: #Si el número actual es mayor que maximo\n",
    "        maximo = num #Actualiza maximo con el número actual\n",
    "\n",
    "print(\"El número más grande es:\", maximo)"
   ]
  },
  {
   "cell_type": "markdown",
   "id": "70a24b97",
   "metadata": {},
   "source": [
    "### Actividad 3:\n",
    "Contar cuántas veces aparece un número específico. Utiliza estructuras repetitivas para la resolucion de este ejercicio. "
   ]
  },
  {
   "cell_type": "code",
   "execution_count": null,
   "id": "a9c8ebc7",
   "metadata": {},
   "outputs": [
    {
     "name": "stdout",
     "output_type": "stream",
     "text": [
      "Lista generada:\n",
      "[162, 138, 81, 183, 127, 52, 56, 192, 158, 56, 92, 18, 90, 116, 18, 179, 92, 36, 196, 74]\n",
      "\n",
      "Números que se repiten:\n",
      "56 aparece 2 veces\n",
      "92 aparece 2 veces\n",
      "18 aparece 2 veces\n"
     ]
    }
   ],
   "source": [
    "\n",
    "# todo:\n",
    "\n",
    "from random import randint\n",
    "\n",
    "\n",
    "lists = [randint(1, 200) for _ in range(20)] #Genera una lista de 20 números aleatorios entre 1 y 200\n",
    "print(\"Lista generada:\")\n",
    "print(lists)\n",
    "\n",
    "\n",
    "repeated_numbers = {} #Diccionario para contar repeticiones\n",
    "\n",
    "\n",
    "for num in lists: #Itera sobre la lista de números\n",
    "    if num in repeated_numbers: #Si el número ya está en el diccionario\n",
    "        repeated_numbers[num] += 1 #Incrementa el contador\n",
    "    else: #Si el número no está en el diccionario\n",
    "        repeated_numbers[num] = 1 #Inicializa el contador a 1\n",
    "\n",
    "\n",
    "print(\"\\nNúmeros que se repiten:\")\n",
    "for num, count in repeated_numbers.items(): #Itera sobre el diccionario\n",
    "    if count > 1: #Si el contador es mayor que 1 \n",
    "        print(f\"{num} aparece {count} veces\") #Imprime el número y su contador\n"
   ]
  },
  {
   "cell_type": "markdown",
   "id": "b8dac397",
   "metadata": {},
   "source": [
    "### Actividad 4: \n",
    "Invertir una lista sin usar reverse() ni [::-1]"
   ]
  },
  {
   "cell_type": "code",
   "execution_count": null,
   "id": "d04fd492",
   "metadata": {},
   "outputs": [
    {
     "name": "stdout",
     "output_type": "stream",
     "text": [
      "Lista original:\n",
      "[16, 37, 33, 31, 42, 41, 42, 20]\n",
      "Lista invertida:\n",
      "[20, 42, 41, 42, 31, 33, 37, 16]\n"
     ]
    }
   ],
   "source": [
    "\n",
    "# todo:\n",
    "\n",
    "from random import randint\n",
    "\n",
    "lists_two = [randint(1, 50) for i in range(8)] #Genera una lista de 8 números aleatorios entre 1 y 50\n",
    "print(\"Lista original:\")\n",
    "print(lists_two)\n",
    "\n",
    "lista_invertida = [] #Lista vacía para almacenar los números invertidos\n",
    "for i in range(len(lists_two)-1, -1, -1): #Itera sobre la lista de números desde el último hasta el primero\n",
    "    lista_invertida.append(lists_two[i]) #Agrega el número actual a la lista invertida\n",
    "\n",
    "print(\"Lista invertida:\")\n",
    "print(lista_invertida)\n"
   ]
  },
  {
   "cell_type": "markdown",
   "id": "8889d0f2",
   "metadata": {},
   "source": [
    "### Actividad 5:\n",
    "Sumar los elementos de dos listas posición por posición, utilizando solo bucles repetititivos (for,while)."
   ]
  },
  {
   "cell_type": "code",
   "execution_count": 23,
   "id": "bc0ec844",
   "metadata": {},
   "outputs": [
    {
     "name": "stdout",
     "output_type": "stream",
     "text": [
      "Resultado de la suma posición por posición: [3, 7, 11, 16, 18]\n"
     ]
    }
   ],
   "source": [
    "\n",
    "# todo:\n",
    "\n",
    "lists_one = [ 2,4,6,7,8 ] #Primera lista de números\n",
    "lists_two = [ 1,3,5,9,10 ] #Segunda lista de números\n",
    "\n",
    "result = [] #Lista vacía para almacenar el resultado\n",
    "\n",
    "for i in range(len(lists_one)): #Itera sobre las listas\n",
    "    if i < len(lists_two): #Si el índice es menor que la longitud de la segunda lista\n",
    "        result.append(lists_one[i] + lists_two[i]) #Suma los números en la misma posición de ambas listas y agrega el resultado a la lista result\n",
    "\n",
    "print(\"Resultado de la suma posición por posición:\", result)\n"
   ]
  },
  {
   "cell_type": "markdown",
   "id": "8ce33e6b",
   "metadata": {},
   "source": [
    "### Actividad 6:\n",
    "\n",
    "Escribir un programa que almacene el abecedario en una lista, elimine de la lista las letras que ocupen posiciones múltiplos de 3, y muestre por pantalla la lista resultante."
   ]
  },
  {
   "cell_type": "code",
   "execution_count": null,
   "id": "b07326e2",
   "metadata": {},
   "outputs": [
    {
     "name": "stdout",
     "output_type": "stream",
     "text": [
      "Lista resultante: ['a', 'b', 'd', 'e', 'g', 'h', 'j', 'k', 'm', 'n', 'p', 'q', 's', 't', 'v', 'w', 'y', 'z']\n"
     ]
    }
   ],
   "source": [
    "\n",
    "# todo:\n",
    "\n",
    "abecedario = [chr(i) for i in range(97, 123)]  # Letras de 'a' a 'z'\n",
    "\n",
    "resultado = [letra for i, letra in enumerate(abecedario, start=1) if i % 3 != 0] # Crea una nueva lista excluyendo las letras en posiciones múltiplos de 3\n",
    "\n",
    "print(\"Lista resultante:\", resultado)"
   ]
  },
  {
   "cell_type": "markdown",
   "id": "5bfeb4b5",
   "metadata": {},
   "source": [
    "### Actividad 7:\n",
    "\n",
    "Escribir un programa que pida al usuario una palabra y muestre por pantalla si es un palíndromo (una palabra que se escribe de la misma forma al derecho y al reves)."
   ]
  },
  {
   "cell_type": "code",
   "execution_count": null,
   "id": "2365afcc",
   "metadata": {},
   "outputs": [
    {
     "name": "stdout",
     "output_type": "stream",
     "text": [
      "La palabra 'neuquen' es un palíndromo.\n"
     ]
    }
   ],
   "source": [
    "\n",
    "# todo:\n",
    "def polindromo():\n",
    "    palabra = input(\"Introduce una palabra: \").strip().lower() # Solicita al usuario una palabra y la convierte a minúsculas\n",
    "\n",
    "    if palabra == palabra[::-1]: # Verifica si la palabra es igual a su reverso\n",
    "        print(f\"La palabra '{palabra}' es un palíndromo.\")\n",
    "    else: # Si no es igual, no es un palíndromo\n",
    "        print(f\"La palabra '{palabra}' no es un palíndromo.\")\n",
    "polindromo()"
   ]
  },
  {
   "cell_type": "markdown",
   "id": "ed8b51be",
   "metadata": {},
   "source": [
    "### Actividad 8:\n",
    "\n",
    "Teniendo en cuenta el conjunto 1 y el conjunto 2, sin usar el operador de intersección &, calcular la intersección de dichos conjuntos."
   ]
  },
  {
   "cell_type": "code",
   "execution_count": null,
   "id": "21a434b9",
   "metadata": {},
   "outputs": [],
   "source": [
    "conjunto1 = {1, 2, 3, 4}\n",
    "conjunto2 = {3, 4, 5, 6}\n",
    "# todo:"
   ]
  },
  {
   "cell_type": "markdown",
   "id": "31b460dc",
   "metadata": {},
   "source": [
    "### Actividad 9:\n",
    "Eliminar duplicados de una lista usando un set."
   ]
  },
  {
   "cell_type": "code",
   "execution_count": null,
   "id": "0ef62008",
   "metadata": {},
   "outputs": [],
   "source": [
    "\n",
    "# todo:\n",
    "lista = [1, 2, 2, 3, 4, 4, 5]\n"
   ]
  },
  {
   "cell_type": "markdown",
   "id": "075f1f2c",
   "metadata": {},
   "source": [
    "### Actividad 10:\n",
    "\n",
    "Escribir un programa que cree 2 matrices y realice su multiplicacion."
   ]
  },
  {
   "cell_type": "code",
   "execution_count": null,
   "id": "4c1fd0e1",
   "metadata": {},
   "outputs": [],
   "source": [
    "\n",
    "# todo:"
   ]
  }
 ],
 "metadata": {
  "kernelspec": {
   "display_name": "Python 3",
   "language": "python",
   "name": "python3"
  },
  "language_info": {
   "codemirror_mode": {
    "name": "ipython",
    "version": 3
   },
   "file_extension": ".py",
   "mimetype": "text/x-python",
   "name": "python",
   "nbconvert_exporter": "python",
   "pygments_lexer": "ipython3",
   "version": "3.13.2"
  }
 },
 "nbformat": 4,
 "nbformat_minor": 5
}
